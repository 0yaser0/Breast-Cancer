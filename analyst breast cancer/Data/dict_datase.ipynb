{
 "cells": [
  {
   "cell_type": "markdown",
   "metadata": {},
   "source": [
    "# Documentation pour plus d’informations sur les variables du jeu de données."
   ]
  },
  {
   "cell_type": "markdown",
   "metadata": {},
   "source": [
    "| Nom de la colonne           | Description                                                                                       |\n",
    "|-----------------------------|---------------------------------------------------------------------------------------------------|\n",
    "| year                        | Année où les données ont été collectées.                                                          |\n",
    "| age_group_5_years           | Groupe d'âge en intervalles de 5 ans : 1 = 35-39, 2 = 40-44, ..., 10 = 80-84.                     |\n",
    "| race_eth                    | Origine ethnique : 1 = Blanc, 2 = Asiatique/Pacifique, 3 = Noir, 4 = Amérindien, etc.             |\n",
    "| first_degree_hx             | Antécédents familiaux : 0 = Non, 1 = Oui, 9 = Inconnu.                                           |\n",
    "| age_menarche                | Âge à la ménarche : Âge à la première menstruation (numérique).                                    |\n",
    "| age_first_birth             | Âge à la première naissance : 0 = < 30 ans, 1 = ≥ 30 ans, 2 = Nullipare, 9 = Inconnu.             |\n",
    "| BIRADS_breast_density       | Densité mammaire (BI-RADS) : 1 = Gras, 2 = Densité dispersée, ..., 4 = Très dense, 9 = Inconnu.   |\n",
    "| current_hrt                 | Thérapie hormonale actuelle : 0 = Non, 1 = Oui, 9 = Inconnu.                                      |\n",
    "| menopaus                    | Statut ménopausal : 0 = Pré-ménopausée, 1 = Post-ménopausée/âge ≥ 55, 9 = Inconnu.               |\n",
    "| bmi_group                   | Catégorie d'IMC : 1 = 10-24, 2 = 25-29, 3 = 30-34, 4 = ≥ 35, 9 = Inconnu.                        |\n",
    "| biophx                      | Historique de biopsie : 0 = Non, 1 = Oui, 9 = Inconnu.                                            |\n",
    "| breast_cancer_history       | Historique de cancer du sein : 0 = Non, 1 = Oui.                                                  |\n",
    "| count                       | Fréquence de combinaison des variables.                                                          |\n"
   ]
  },
  {
   "cell_type": "markdown",
   "metadata": {},
   "source": []
  }
 ],
 "metadata": {
  "kernelspec": {
   "display_name": "Python 3",
   "language": "python",
   "name": "python3"
  },
  "language_info": {
   "codemirror_mode": {
    "name": "ipython",
    "version": 3
   },
   "file_extension": ".py",
   "mimetype": "text/x-python",
   "name": "python",
   "nbconvert_exporter": "python",
   "pygments_lexer": "ipython3",
   "version": "3.12.0"
  }
 },
 "nbformat": 4,
 "nbformat_minor": 2
}
